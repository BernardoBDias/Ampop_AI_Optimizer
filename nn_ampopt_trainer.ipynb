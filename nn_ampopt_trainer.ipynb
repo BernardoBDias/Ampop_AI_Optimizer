{
 "cells": [
  {
   "cell_type": "code",
   "execution_count": 23,
   "metadata": {},
   "outputs": [],
   "source": [
    "import torch\n",
    "import torch.nn as nn\n",
    "import matplotlib.pyplot as plt\n",
    "import numpy as np\n",
    "import csv\n",
    "import torch.optim as optim\n",
    "from sklearn.preprocessing import MinMaxScaler\n",
    "from sklearn.model_selection import train_test_split"
   ]
  },
  {
   "cell_type": "code",
   "execution_count": 26,
   "metadata": {},
   "outputs": [
    {
     "name": "stdout",
     "output_type": "stream",
     "text": [
      "1006\n",
      "[3.1064598e+01 6.1659500e+04 5.8053015e+06]\n"
     ]
    }
   ],
   "source": [
    "with open('database_ampop.csv', 'r') as file:\n",
    "    reader = csv.reader(file)\n",
    "    header = next(reader)  # Lê a primeira linha como cabeçalho (opcional)\n",
    "    data_base = [list(map(float, row)) for row in reader]\n",
    "\n",
    "data_base = torch.tensor(data_base)\n",
    "X_medidas = data_base[:,-3:].numpy()\n",
    "Y_larguras = data_base[:,:-3].numpy()\n",
    "\n",
    "print(len(X_medidas))\n",
    "# print(Y_larguras[0,:])\n",
    "print(X_medidas[0,:])"
   ]
  },
  {
   "cell_type": "code",
   "execution_count": null,
   "metadata": {},
   "outputs": [
    {
     "name": "stdout",
     "output_type": "stream",
     "text": [
      "[0.01093262 0.00053323 0.34648305]\n"
     ]
    }
   ],
   "source": [
    "n_epochs = 10\n",
    "size_data_test = 0.2\n",
    "hidden_size = 32\n",
    "\n",
    "scaler_X = MinMaxScaler()\n",
    "scaler_Y = MinMaxScaler()\n",
    "\n",
    "X_normalized = scaler_X.fit_transform(X_medidas)\n",
    "Y_normalized = scaler_Y.fit_transform(Y_larguras)\n",
    "\n",
    "X_train, X_val, Y_train, Y_val = train_test_split(X_normalized, Y_normalized, test_size=size_data_test)\n",
    "print(X_normalized[0,:])\n",
    "\n",
    "X_train = torch.Tensor(X_train, dtype=torch.float32)\n",
    "X_val = torch.Tensor(X_val, dtype=torch.float32)\n",
    "Y_train = torch.Tensor(Y_train, dtype=torch.float32)\n",
    "Y_val = torch.Tensor(Y_val, dtype=torch.float32)"
   ]
  },
  {
   "cell_type": "code",
   "execution_count": null,
   "metadata": {},
   "outputs": [],
   "source": [
    "class AmpOpT_NN(nn.Module):\n",
    "    def __init__(self):\n",
    "        super().__init__()\n",
    "        self.layer1 = nn.Linear(3,hidden_size)\n",
    "        self.layer2 = nn.Linear(hidden_size)"
   ]
  }
 ],
 "metadata": {
  "kernelspec": {
   "display_name": "Python 3",
   "language": "python",
   "name": "python3"
  },
  "language_info": {
   "codemirror_mode": {
    "name": "ipython",
    "version": 3
   },
   "file_extension": ".py",
   "mimetype": "text/x-python",
   "name": "python",
   "nbconvert_exporter": "python",
   "pygments_lexer": "ipython3",
   "version": "3.12.7"
  }
 },
 "nbformat": 4,
 "nbformat_minor": 2
}
